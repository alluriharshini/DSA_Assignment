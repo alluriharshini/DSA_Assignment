{
 "cells": [
  {
   "cell_type": "markdown",
   "id": "3689bb03-a333-43fe-93a3-c272d283fd70",
   "metadata": {},
   "source": [
    "Problem 1: Reverse a singly linked list.\n",
    "Input: 1 -> 2 -> 3 -> 4 -> 5\n",
    "Output: 5 -> 4 -> 3 -> 2 -> 1"
   ]
  },
  {
   "cell_type": "code",
   "execution_count": 6,
   "id": "1c5a643f-a87d-4667-9e35-bc9f5edf638e",
   "metadata": {},
   "outputs": [
    {
     "name": "stdout",
     "output_type": "stream",
     "text": [
      "5->4->3->2->1->None\n"
     ]
    }
   ],
   "source": [
    "class Node:\n",
    "    def __init__(self,value):\n",
    "        self.value=value\n",
    "        self.next=None\n",
    "def reverse_linked_list(head):\n",
    "    prev=None\n",
    "    current= head\n",
    "    while current is not None:\n",
    "        next_node=current.next\n",
    "        current.next=prev\n",
    "        prev=current\n",
    "        current=next_node\n",
    "    return prev\n",
    "def print_linked_list(head):\n",
    "    current= head\n",
    "    while current is not None:\n",
    "        print(current.value, end=\"->\")\n",
    "        current=current.next\n",
    "    print(\"None\")\n",
    "head=Node(1)\n",
    "head.next=Node(2)\n",
    "head.next.next=Node(3)\n",
    "head.next.next.next=Node(4)\n",
    "head.next.next.next.next=Node(5)\n",
    "\n",
    "reversed_head=reverse_linked_list(head)\n",
    "print_linked_list(reversed_head)\n"
   ]
  },
  {
   "cell_type": "markdown",
   "id": "fb37336e-8cd1-4d11-b94e-bf50f7bdda10",
   "metadata": {},
   "source": [
    "Problem 2: Merge two sorted linked lists into one sorted linked list.\n",
    "Input: List 1: 1 -> 3 -> 5, List 2: 2 -> 4 -> 6\n",
    "Output: 1 -> 2 -> 3 -> 4 -> 5 -> 6"
   ]
  },
  {
   "cell_type": "code",
   "execution_count": 7,
   "id": "05066f49-36a3-4987-be6c-138c7fe69981",
   "metadata": {},
   "outputs": [
    {
     "name": "stdout",
     "output_type": "stream",
     "text": [
      "1->2->3->4->5->6->None\n"
     ]
    }
   ],
   "source": [
    "class Node:\n",
    "    def __init__(self,value):\n",
    "        self.value=value\n",
    "        self.next=None\n",
    "def merge_sorted_lists(list1,list2):\n",
    "    dummy=Node(0)\n",
    "    current=dummy\n",
    "    while list1 is not None and list2 is not None:\n",
    "        if list1.value<list2.value:\n",
    "            current.next=list1\n",
    "            list1=list1.next\n",
    "        else:\n",
    "            current.next=list2\n",
    "            list2=list2.next\n",
    "        current=current.next\n",
    "    if list1 is not None:\n",
    "        current.next=list1\n",
    "    elif list2 is not None:\n",
    "        current.next=list2\n",
    "    return dummy.next\n",
    "\n",
    "list1=Node(1)\n",
    "list1.next=Node(3)\n",
    "list1.next.next=Node(5)\n",
    "list2=Node(2)\n",
    "list2.next=Node(4)\n",
    "list2.next.next=Node(6)\n",
    "\n",
    "merged_list=merge_sorted_lists(list1,list2)\n",
    "print_linked_list(merged_list)"
   ]
  },
  {
   "cell_type": "markdown",
   "id": "19df0935-5474-45f5-8734-27b9c02a5913",
   "metadata": {},
   "source": [
    "Problem 3: Remove the nth node from the end of a linked list.\n",
    "Input: 1 -> 2 -> 3 -> 4 -> 5, n = 2\n",
    "Output: 1 -> 2 -> 3 -> 5"
   ]
  },
  {
   "cell_type": "code",
   "execution_count": 2,
   "id": "0283eccc-f475-4402-acc6-a712c514ea90",
   "metadata": {},
   "outputs": [
    {
     "name": "stdout",
     "output_type": "stream",
     "text": [
      "1 -> 2 -> 3 -> 5 -> "
     ]
    }
   ],
   "source": [
    "class ListNode:\n",
    "    def __init__(self, value=0, next=None):\n",
    "        self.value = value\n",
    "        self.next = next\n",
    "\n",
    "def remove_nth_from_end(head, n):\n",
    "    # dummy node to handle the case where the head needs to be removed\n",
    "    dummy = ListNode(0)\n",
    "    dummy.next = head\n",
    "    \n",
    "    # Initializing two pointers, fast and slow, to the beginning of the list\n",
    "    fast = slow = dummy\n",
    "    \n",
    "    # Move the fast pointer n+1 steps ahead\n",
    "    for _ in range(n + 1):\n",
    "        fast = fast.next\n",
    "    \n",
    "    # Move both pointers until the fast pointer reaches the end\n",
    "    while fast is not None:\n",
    "        fast = fast.next\n",
    "        slow = slow.next\n",
    "    \n",
    "    # Remove the nth node from the end by updating the next pointer of the preceding node\n",
    "    slow.next = slow.next.next\n",
    "    \n",
    "    # Return the updated head of the list\n",
    "    return dummy.next\n",
    "\n",
    "# Create a linked list: 1 -> 2 -> 3 -> 4 -> 5\n",
    "head = ListNode(1, ListNode(2, ListNode(3, ListNode(4, ListNode(5)))))\n",
    "n = 2\n",
    "result = remove_nth_from_end(head, n)\n",
    "\n",
    "while result is not None:\n",
    "    print(result.value, end=\" -> \")\n",
    "    result = result.next\n"
   ]
  },
  {
   "cell_type": "markdown",
   "id": "a31b14a4-0279-446b-9316-576269930b67",
   "metadata": {},
   "source": [
    "Problem 4: Find the intersection point of two linked lists.\n",
    "Input: List 1: 1 -> 2 -> 3 -> 4, List 2: 9 -> 8 -> 3 -> 4\n",
    "Output: Node with value 3"
   ]
  },
  {
   "cell_type": "code",
   "execution_count": 4,
   "id": "36372512-200d-41f5-bb14-2c1f94049257",
   "metadata": {},
   "outputs": [
    {
     "name": "stdout",
     "output_type": "stream",
     "text": [
      "Intersection Node Value: 3\n"
     ]
    }
   ],
   "source": [
    "class ListNode:\n",
    "    def __init__(self, value=0, next=None):\n",
    "        self.value = value\n",
    "        self.next = next\n",
    "\n",
    "def get_intersection_node(headA, headB):\n",
    "    if not headA or not headB:\n",
    "        return None\n",
    "    \n",
    "    # Finding the lengths of both linked lists\n",
    "    lenA, lenB = 0, 0\n",
    "    currentA, currentB = headA, headB\n",
    "    \n",
    "    while currentA:\n",
    "        lenA += 1\n",
    "        currentA = currentA.next\n",
    "    \n",
    "    while currentB:\n",
    "        lenB += 1\n",
    "        currentB = currentB.next\n",
    "    \n",
    "    # Reset the pointers to the beginning of the lists\n",
    "    currentA, currentB = headA, headB\n",
    "    \n",
    "    # Move the pointer of the longer list ahead by the difference in lengths\n",
    "    while lenA > lenB:\n",
    "        currentA = currentA.next\n",
    "        lenA -= 1\n",
    "    \n",
    "    while lenB > lenA:\n",
    "        currentB = currentB.next\n",
    "        lenB -= 1\n",
    "    \n",
    "    # Move both pointers until they meet (intersection point) or reach the end\n",
    "    while currentA != currentB:\n",
    "        currentA = currentA.next\n",
    "        currentB = currentB.next\n",
    "    \n",
    "    # Return the intersection node or None if there is no intersection\n",
    "    return currentA\n",
    "\n",
    "\n",
    "list1 = ListNode(1, ListNode(2, ListNode(3, ListNode(4))))\n",
    "list2 = ListNode(9, ListNode(8, list1.next.next))\n",
    "\n",
    "# Finding the intersection node\n",
    "intersection_node = get_intersection_node(list1, list2)\n",
    "\n",
    "\n",
    "if intersection_node:\n",
    "    print(\"Intersection Node Value:\", intersection_node.value)\n",
    "else:\n",
    "    print(\"No intersection\")\n"
   ]
  },
  {
   "cell_type": "markdown",
   "id": "e8766217-b24d-425b-9d9a-e6bcc56dde9e",
   "metadata": {},
   "source": [
    "Problem 5: Remove duplicates from a sorted linked list.\n",
    "Input: 1 -> 1 -> 2 -> 3 -> 3\n",
    "Output: 1 -> 2 -> 3"
   ]
  },
  {
   "cell_type": "code",
   "execution_count": 6,
   "id": "c53990d8-89ec-4205-a8dc-61d812af6a0a",
   "metadata": {},
   "outputs": [
    {
     "name": "stdout",
     "output_type": "stream",
     "text": [
      "Linked list with duplicates <__main__.ListNode object at 0x7fe32f7033a0>\n",
      "1 -> 2 -> 3 -> "
     ]
    }
   ],
   "source": [
    "class ListNode:\n",
    "    def __init__(self, val=0, next=None):\n",
    "        self.val = val\n",
    "        self.next = next\n",
    "\n",
    "def remove_duplicates(head):\n",
    "    current = head\n",
    "\n",
    "    while current is not None and current.next is not None:\n",
    "        if current.val == current.next.val:\n",
    "            current.next = current.next.next\n",
    "        else:\n",
    "            current = current.next\n",
    "\n",
    "    return head\n",
    "linked_list = ListNode(1, ListNode(1, ListNode(2, ListNode(3, ListNode(3)))))\n",
    "\n",
    "result = remove_duplicates(linked_list)\n",
    "\n",
    "\n",
    "while result is not None:\n",
    "    print(result.val, end=\" -> \")\n",
    "    result = result.next\n",
    " "
   ]
  },
  {
   "cell_type": "markdown",
   "id": "87066cd1-e1fb-46a5-b81a-ddcdc6f7b3e9",
   "metadata": {},
   "source": [
    "Problem 6: Add two numbers represented by linked lists (where each node contains a single digit).\n",
    "Input: List 1: 2 -> 4 -> 3, List 2: 5 -> 6 -> 4 (represents 342 + 465)\n",
    "Output: 7 -> 0 -> 8 (represents 807)"
   ]
  },
  {
   "cell_type": "code",
   "execution_count": 7,
   "id": "b69d0888-846c-4a2a-afa8-3285e7657332",
   "metadata": {},
   "outputs": [
    {
     "name": "stdout",
     "output_type": "stream",
     "text": [
      "7 -> 0 -> 8 -> "
     ]
    }
   ],
   "source": [
    "class ListNode:\n",
    "    def __init__(self, val=0, next=None):\n",
    "        self.val = val\n",
    "        self.next = next\n",
    "\n",
    "def add_two_numbers(l1, l2):\n",
    "    dummy_head = ListNode()\n",
    "    current = dummy_head\n",
    "    carry = 0\n",
    "\n",
    "    while l1 or l2 or carry:\n",
    "       \n",
    "        x = l1.val if l1 else 0\n",
    "        y = l2.val if l2 else 0\n",
    "\n",
    "        # Calculate the sum and carry for the current digits\n",
    "        _sum = x + y + carry\n",
    "        carry = _sum // 10\n",
    "\n",
    "        # Create a new node with the current digit and move to the next node\n",
    "        current.next = ListNode(_sum % 10)\n",
    "        current = current.next\n",
    "\n",
    "        # Move to the next nodes if they exist\n",
    "        if l1:\n",
    "            l1 = l1.next\n",
    "        if l2:\n",
    "            l2 = l2.next\n",
    "\n",
    "    return dummy_head.next\n",
    "\n",
    "\n",
    "list1 = ListNode(2, ListNode(4, ListNode(3)))\n",
    "list2 = ListNode(5, ListNode(6, ListNode(4)))\n",
    "\n",
    "# Add the two numbers and print the result: 7 -> 0 -> 8\n",
    "result = add_two_numbers(list1, list2)\n",
    "while result is not None:\n",
    "    print(result.val, end=\" -> \")\n",
    "    result = result.next\n"
   ]
  },
  {
   "cell_type": "markdown",
   "id": "19192685-5934-4371-ac69-c1fcf297cde3",
   "metadata": {},
   "source": [
    "Problem 7: Swap nodes in pairs in a linked list.\n",
    "Input: 1 -> 2 -> 3 -> 4\n",
    "Output: 2 -> 1 -> 4 -> 3"
   ]
  },
  {
   "cell_type": "code",
   "execution_count": 9,
   "id": "084d4891-5977-492b-8054-720214e7b830",
   "metadata": {},
   "outputs": [
    {
     "name": "stdout",
     "output_type": "stream",
     "text": [
      "2 -> 1 -> 4 -> 3 -> "
     ]
    }
   ],
   "source": [
    "class ListNode:\n",
    "    def __init__(self, val=0, next=None):\n",
    "        self.val = val\n",
    "        self.next = next\n",
    "\n",
    "def swap_pairs(head):\n",
    "    dummy_head = ListNode(0)\n",
    "    dummy_head.next = head\n",
    "    current = dummy_head\n",
    "\n",
    "    while current.next and current.next.next:\n",
    "        # Nodes to be swapped\n",
    "        first_node = current.next\n",
    "        second_node = current.next.next\n",
    "\n",
    "        # Swap nodes\n",
    "        current.next = second_node\n",
    "        first_node.next = second_node.next\n",
    "        second_node.next = first_node\n",
    "\n",
    "        # Move to the next pair\n",
    "        current = current.next.next\n",
    "\n",
    "    return dummy_head.next\n",
    "\n",
    "\n",
    "linked_list = ListNode(1, ListNode(2, ListNode(3, ListNode(4))))\n",
    "result = swap_pairs(linked_list)\n",
    "\n",
    "while result is not None:\n",
    "    print(result.val, end=\" -> \")\n",
    "    result = result.next\n"
   ]
  },
  {
   "cell_type": "markdown",
   "id": "26ca43a6-a558-4a37-b0e4-1f4100f6451f",
   "metadata": {},
   "source": [
    "Problem 8: Reverse nodes in a linked list in groups of k.\n",
    "Input: 1 -> 2 -> 3 -> 4 -> 5, k = 3\n",
    "Output: 3 -> 2 -> 1 -> 4 -> 5"
   ]
  },
  {
   "cell_type": "code",
   "execution_count": 17,
   "id": "c607de75-bdb7-466e-a1f0-a38a0522fd4e",
   "metadata": {},
   "outputs": [
    {
     "name": "stdout",
     "output_type": "stream",
     "text": [
      "3 -> 2 -> 1 -> 4 -> 5 -> "
     ]
    }
   ],
   "source": [
    "class ListNode:\n",
    "    def __init__(self, val=0, next=None):\n",
    "        self.val = val\n",
    "        self.next = next\n",
    "\n",
    "def reverse_k_group(head, k):\n",
    "    def reverse_linked_list(start, end):\n",
    "        prev, current = None, start\n",
    "        while current != end:\n",
    "            temp = current.next\n",
    "            current.next = prev\n",
    "            prev = current\n",
    "            current = temp\n",
    "        return prev, start\n",
    "\n",
    "    dummy_head = ListNode(0)\n",
    "    dummy_head.next = head\n",
    "    prev_group_end = dummy_head\n",
    "    current = head\n",
    "\n",
    "    while current:\n",
    "        group_start = current\n",
    "        group_end = current\n",
    "\n",
    "        # Find the end of the current group\n",
    "        for _ in range(k - 1):\n",
    "            if group_end.next:\n",
    "                group_end = group_end.next\n",
    "            else:\n",
    "                # If the remaining nodes are less than k, no need to reverse\n",
    "                return dummy_head.next\n",
    "\n",
    "        # Save the next node after the current group\n",
    "        next_group_start = group_end.next\n",
    "\n",
    "        # Reverse the current group of k nodes\n",
    "        reversed_start, reversed_end = reverse_linked_list(group_start, next_group_start)\n",
    "\n",
    "        # Connect the reversed group to the previous group or the dummy head\n",
    "        prev_group_end.next = reversed_start\n",
    "\n",
    "        # Connect the end of the reversed group to the next group\n",
    "        reversed_end.next = next_group_start\n",
    "\n",
    "        # Move pointers to the next group\n",
    "        prev_group_end = reversed_end\n",
    "        current = next_group_start\n",
    "\n",
    "    return dummy_head.next\n",
    "\n",
    "linked_list = ListNode(1, ListNode(2, ListNode(3, ListNode(4, ListNode(5)))))\n",
    "k = 3\n",
    "result = reverse_k_group(linked_list, k)\n",
    "\n",
    "while result is not None:\n",
    "    print(result.val, end=\" -> \")\n",
    "    result = result.next\n"
   ]
  },
  {
   "cell_type": "markdown",
   "id": "818646e8-2489-4d6a-9d55-e7bd4ae316d6",
   "metadata": {},
   "source": [
    "Problem 9: Determine if a linked list is a palindrome.\n",
    "Input: 1 -> 2 -> 2 -> 1\n",
    "Output: True"
   ]
  },
  {
   "cell_type": "code",
   "execution_count": 20,
   "id": "c2b7ab47-bc11-429c-a430-67059f42b2c3",
   "metadata": {},
   "outputs": [
    {
     "name": "stdout",
     "output_type": "stream",
     "text": [
      "True\n"
     ]
    }
   ],
   "source": [
    "class ListNode:\n",
    "    def __init__(self, val=0, next=None):\n",
    "        self.val = val\n",
    "        self.next = next\n",
    "\n",
    "def is_palindrome(head):\n",
    "    def reverse_linked_list(node):\n",
    "        prev, current = None, node\n",
    "        while current:\n",
    "            temp = current.next\n",
    "            current.next = prev\n",
    "            prev = current\n",
    "            current = temp\n",
    "        return prev\n",
    "\n",
    "    # Find the middle of the linked list\n",
    "    slow = fast = head\n",
    "    while fast and fast.next:\n",
    "        slow = slow.next\n",
    "        fast = fast.next.next\n",
    "\n",
    "    # Reverse the second half of the linked list\n",
    "    reversed_second_half = reverse_linked_list(slow)\n",
    "\n",
    "    # Compare the first half with the reversed second half\n",
    "    while reversed_second_half:\n",
    "        if head.val != reversed_second_half.val:\n",
    "            return False\n",
    "        head = head.next\n",
    "        reversed_second_half = reversed_second_half.next\n",
    "\n",
    "    return True\n",
    "\n",
    "palindrome_list = ListNode(1, ListNode(2, ListNode(2, ListNode(1))))\n",
    "result = is_palindrome(palindrome_list)\n",
    "\n",
    "print(result)\n",
    " "
   ]
  },
  {
   "cell_type": "markdown",
   "id": "72101be1-37bb-4468-bade-2b44e2940269",
   "metadata": {},
   "source": [
    "Problem 10: Rotate a linked list to the right by k places.\n",
    "Input: 1 -> 2 -> 3 -> 4 -> 5, k = 2\n",
    "Output: 4 -> 5 -> 1 -> 2 -> 3"
   ]
  },
  {
   "cell_type": "code",
   "execution_count": 5,
   "id": "4d6e4781-4cf7-4050-a5e9-d57dfc152d8c",
   "metadata": {},
   "outputs": [
    {
     "name": "stdout",
     "output_type": "stream",
     "text": [
      "Original Linked List:\n",
      "1 -> 2 -> 3 -> 4 -> 5 -> None\n",
      "\n",
      "Rotated Linked List:\n",
      "4 -> 5 -> 1 -> 2 -> 3 -> None\n"
     ]
    }
   ],
   "source": [
    "class ListNode:\n",
    "    def __init__(self, val=0, next=None):\n",
    "        self.val = val\n",
    "        self.next = next\n",
    "\n",
    "def rotateRight(head, k):\n",
    "    if not head or k == 0:\n",
    "        return head\n",
    "\n",
    "    # Step 1: Find the length of the linked list\n",
    "    length = 1\n",
    "    current = head\n",
    "    while current.next:\n",
    "        length += 1\n",
    "        current = current.next\n",
    "\n",
    "    # Step 2: Calculate the actual rotation value\n",
    "    rotation = k % length\n",
    "\n",
    "    if rotation == 0:\n",
    "        return head  # No rotation needed\n",
    "\n",
    "    # Step 3: Traverse to the node at position (length - rotation)\n",
    "    current = head\n",
    "    for _ in range(length - rotation - 1):\n",
    "        current = current.next\n",
    "\n",
    "    # Step 4: Update pointers to rotate the list\n",
    "    new_head = current.next\n",
    "    current.next = None  # Set the end of the rotated list\n",
    "    current = new_head\n",
    "    while current.next:\n",
    "        current = current.next\n",
    "    current.next = head\n",
    "\n",
    "    return new_head\n",
    "def print_linked_list(head):\n",
    "    current = head\n",
    "    while current:\n",
    "        print(current.val, end=\" -> \")\n",
    "        current = current.next\n",
    "    print(\"None\")\n",
    "head = ListNode(1, ListNode(2, ListNode(3, ListNode(4, ListNode(5)))))\n",
    "\n",
    "print(\"Original Linked List:\")\n",
    "print_linked_list(head)\n",
    "\n",
    "# Rotate the linked list to the right by k = 2 places\n",
    "head = rotateRight(head, 2)\n",
    "\n",
    "print(\"\\nRotated Linked List:\")\n",
    "print_linked_list(head)"
   ]
  },
  {
   "cell_type": "markdown",
   "id": "22ad1857-ff21-4151-b8df-990da2b7d9f6",
   "metadata": {},
   "source": [
    "Problem 11: Flatten a multilevel doubly linked list.\n",
    "Input: 1 <-> 2 <-> 3 <-> 7 <-> 8 <-> 11 -> 12, 4 <-> 5 -> 9 -> 10, 6 -> 13\n",
    "Output: 1 <-> 2 <-> 3 <-> 4 <-> 5 <-> 6 <-> 7 <-> 8 <-> 9 <-> 10 <-> 11 <-> 12 <-> 13"
   ]
  },
  {
   "cell_type": "code",
   "execution_count": 6,
   "id": "d0f7fded-ac2c-4916-8ec3-b63a0fa75127",
   "metadata": {},
   "outputs": [
    {
     "name": "stdout",
     "output_type": "stream",
     "text": [
      "Flattened Linked List:\n",
      "1 <-> 2 <-> 3 <-> 7 <-> 8 <-> 11 <-> 12 <-> 4 <-> 5 <-> 9 <-> 10 <-> 6 <-> 13 <-> None\n"
     ]
    }
   ],
   "source": [
    "class Node:\n",
    "    def __init__(self, val, prev=None, next=None, child=None):\n",
    "        self.val = val\n",
    "        self.prev = prev\n",
    "        self.next = next\n",
    "        self.child = child\n",
    "\n",
    "def flatten_linked_list(head):\n",
    "    if not head:\n",
    "        return None\n",
    "\n",
    "    current = head\n",
    "\n",
    "    while current:\n",
    "        if current.child:\n",
    "            next_node = current.next\n",
    "            current.next = flatten_linked_list(current.child)\n",
    "            current.next.prev = current\n",
    "            current.child = None\n",
    "\n",
    "            while current.next:\n",
    "                current = current.next\n",
    "\n",
    "            if next_node:\n",
    "                current.next = next_node\n",
    "                next_node.prev = current\n",
    "\n",
    "        current = current.next\n",
    "\n",
    "    return head\n",
    "\n",
    "def print_linked_list(head):\n",
    "    current = head\n",
    "    while current:\n",
    "        print(current.val, end=\" <-> \")\n",
    "        current = current.next\n",
    "    print(\"None\")\n",
    "\n",
    "# Create a multilevel doubly linked list\n",
    "head = Node(1)\n",
    "head.next = Node(2)\n",
    "head.next.prev = head\n",
    "head.next.next = Node(3)\n",
    "head.next.next.prev = head.next\n",
    "head.next.next.next = Node(7)\n",
    "head.next.next.next.prev = head.next.next\n",
    "head.next.next.next.next = Node(8)\n",
    "head.next.next.next.next.prev = head.next.next.next\n",
    "head.next.next.next.next.next = Node(11)\n",
    "head.next.next.next.next.next.prev = head.next.next.next.next\n",
    "head.next.next.next.next.next.next = Node(12)\n",
    "head.next.next.next.next.next.next.prev = head.next.next.next.next.next\n",
    "head.next.next.next.next.next.next.next = Node(4)\n",
    "head.next.next.next.next.next.next.next.prev = head.next.next.next.next.next.next\n",
    "head.next.next.next.next.next.next.next.next = Node(5)\n",
    "head.next.next.next.next.next.next.next.next.prev = head.next.next.next.next.next.next.next\n",
    "head.next.next.next.next.next.next.next.next.next = Node(9)\n",
    "head.next.next.next.next.next.next.next.next.next.prev = head.next.next.next.next.next.next.next\n",
    "head.next.next.next.next.next.next.next.next.next.next = Node(10)\n",
    "head.next.next.next.next.next.next.next.next.next.next.prev = head.next.next.next.next.next.next.next.next\n",
    "head.next.next.next.next.next.next.next.next.next.next.next = Node(6)\n",
    "head.next.next.next.next.next.next.next.next.next.next.next.prev = head.next.next.next.next.next.next.next.next.next.next\n",
    "head.next.next.next.next.next.next.next.next.next.next.next.next = Node(13)\n",
    "head.next.next.next.next.next.next.next.next.next.next.next.next.prev = head.next.next.next.next.next.next.next.next.next.next.next\n",
    "\n",
    "# Flatten the multilevel doubly linked list\n",
    "head = flatten_linked_list(head)\n",
    "\n",
    "# Print the flattened linked list\n",
    "print(\"Flattened Linked List:\")\n",
    "print_linked_list(head)\n"
   ]
  },
  {
   "cell_type": "code",
   "execution_count": null,
   "id": "a09aaeba-d5c0-413d-9633-a236f3fbea7a",
   "metadata": {},
   "outputs": [],
   "source": [
    "Problem 12: Rearrange a linked list such that all even positioned nodes are placed at the end.\n",
    "Input: 1 -> 2 -> 3 -> 4 -> 5\n",
    "Output: 1 -> 3 -> 5 -> 2 -> 4"
   ]
  },
  {
   "cell_type": "code",
   "execution_count": 7,
   "id": "e7536ec9-191c-47d6-9d26-9ba8cb472970",
   "metadata": {},
   "outputs": [
    {
     "name": "stdout",
     "output_type": "stream",
     "text": [
      "Original Linked List:\n",
      "1 -> 2 -> 3 -> 4 -> 5 -> None\n",
      "\n",
      "Rearranged Linked List:\n",
      "1 -> 3 -> 5 -> 2 -> 4 -> None\n"
     ]
    }
   ],
   "source": [
    "class ListNode:\n",
    "    def __init__(self, val=0, next=None):\n",
    "        self.val = val\n",
    "        self.next = next\n",
    "\n",
    "def rearrange_linked_list(head):\n",
    "    if not head or not head.next:\n",
    "        return head\n",
    "\n",
    "    odd_head = ListNode(0)  # Dummy node for the odd position list\n",
    "    even_head = ListNode(0)  # Dummy node for the even position list\n",
    "\n",
    "    odd_current = odd_head\n",
    "    even_current = even_head\n",
    "\n",
    "    current = head\n",
    "    position = 1\n",
    "\n",
    "    while current:\n",
    "        if position % 2 == 1:  # Odd position\n",
    "            odd_current.next = current\n",
    "            odd_current = odd_current.next\n",
    "        else:  # Even position\n",
    "            even_current.next = current\n",
    "            even_current = even_current.next\n",
    "\n",
    "        position += 1\n",
    "        current = current.next\n",
    "\n",
    "    odd_current.next = None\n",
    "    even_current.next = None\n",
    "\n",
    "    # Connect the last node of the odd position list to the head of the even position list\n",
    "    odd_current.next = even_head.next\n",
    "\n",
    "    return odd_head.next\n",
    "\n",
    "def print_linked_list(head):\n",
    "    current = head\n",
    "    while current:\n",
    "        print(current.val, end=\" -> \")\n",
    "        current = current.next\n",
    "    print(\"None\")\n",
    "\n",
    "\n",
    "# Create a linked list\n",
    "head = ListNode(1, ListNode(2, ListNode(3, ListNode(4, ListNode(5)))))\n",
    "\n",
    "print(\"Original Linked List:\")\n",
    "print_linked_list(head)\n",
    "\n",
    "# Rearrange the linked list\n",
    "head = rearrange_linked_list(head)\n",
    "\n",
    "print(\"\\nRearranged Linked List:\")\n",
    "print_linked_list(head)\n"
   ]
  },
  {
   "cell_type": "markdown",
   "id": "ddb059e2-ec49-4e5a-8846-49ed13e11176",
   "metadata": {},
   "source": [
    "Problem 13: Given a non-negative number represented as a linked list, add one to it.\n",
    "Input: 1 -> 2 -> 3 (represents the number 123)\n",
    "Output: 1 -> 2 -> 4 (represents the number 124)"
   ]
  },
  {
   "cell_type": "code",
   "execution_count": 8,
   "id": "dd816c8e-cb4b-46e3-8aa0-d1d18b8dab6a",
   "metadata": {},
   "outputs": [
    {
     "name": "stdout",
     "output_type": "stream",
     "text": [
      "Original Linked List:\n",
      "1 -> 2 -> 3 -> None\n",
      "\n",
      "Result Linked List:\n",
      "1 -> 2 -> 4 -> None\n"
     ]
    }
   ],
   "source": [
    "class ListNode:\n",
    "    def __init__(self, val=0, next=None):\n",
    "        self.val = val\n",
    "        self.next = next\n",
    "\n",
    "def add_one_to_linked_list(head):\n",
    "    # Step 1: Reverse the linked list\n",
    "    def reverse_linked_list(node):\n",
    "        prev = None\n",
    "        while node:\n",
    "            next_node = node.next\n",
    "            node.next = prev\n",
    "            prev = node\n",
    "            node = next_node\n",
    "        return prev\n",
    "\n",
    "    reversed_head = reverse_linked_list(head)\n",
    "\n",
    "    # Step 2: Add one to the reversed linked list\n",
    "    current = reversed_head\n",
    "    carry = 1\n",
    "\n",
    "    while current and carry:\n",
    "        total = current.val + carry\n",
    "        current.val = total % 10\n",
    "        carry = total // 10\n",
    "        if carry and not current.next:\n",
    "            current.next = ListNode(carry)\n",
    "            carry = 0\n",
    "        current = current.next\n",
    "\n",
    "    # Step 3: Reverse the linked list again\n",
    "    result_head = reverse_linked_list(reversed_head)\n",
    "\n",
    "    return result_head\n",
    "\n",
    "def print_linked_list(head):\n",
    "    current = head\n",
    "    while current:\n",
    "        print(current.val, end=\" -> \")\n",
    "        current = current.next\n",
    "    print(\"None\")\n",
    "\n",
    "# Create a linked list\n",
    "head = ListNode(1, ListNode(2, ListNode(3)))\n",
    "\n",
    "print(\"Original Linked List:\")\n",
    "print_linked_list(head)\n",
    "\n",
    "# Add one to the linked list\n",
    "head = add_one_to_linked_list(head)\n",
    "\n",
    "print(\"\\nResult Linked List:\")\n",
    "print_linked_list(head)\n"
   ]
  },
  {
   "cell_type": "code",
   "execution_count": null,
   "id": "c0f669de-a2ef-4b97-bf17-dce8ef1b8ee6",
   "metadata": {},
   "outputs": [],
   "source": [
    "Problem 14: Given a sorted array and a target value, return the index if the target is found. If not, return the\n",
    "index where it would be inserted.Input: nums = [1, 3, 5, 6], target = 5\n",
    "Output: 2"
   ]
  },
  {
   "cell_type": "code",
   "execution_count": 9,
   "id": "76f5089d-0e01-408e-b834-0fc0d54e6265",
   "metadata": {},
   "outputs": [
    {
     "name": "stdout",
     "output_type": "stream",
     "text": [
      "2\n"
     ]
    }
   ],
   "source": [
    "def search_insert(nums, target):\n",
    "    left, right = 0, len(nums) - 1\n",
    "\n",
    "    while left <= right:\n",
    "        mid = left + (right - left) // 2\n",
    "\n",
    "        if nums[mid] == target:\n",
    "            return mid\n",
    "        elif nums[mid] < target:\n",
    "            left = mid + 1\n",
    "        else:\n",
    "            right = mid - 1\n",
    "\n",
    "    # If the target is not found, left represents the position where it should be inserted\n",
    "    return left\n",
    "nums = [1, 3, 5, 6]\n",
    "target = 5\n",
    "\n",
    "result = search_insert(nums, target)\n",
    "print(result)\n"
   ]
  },
  {
   "cell_type": "markdown",
   "id": "dd0a89f6-c308-4d64-b343-d06a483687fc",
   "metadata": {},
   "source": [
    "Problem 15: Find the minimum element in a rotated sorted array.\n",
    "Input: [4, 5, 6, 7, 0, 1, 2]\n",
    "Output: 0"
   ]
  },
  {
   "cell_type": "code",
   "execution_count": 10,
   "id": "1f132468-e92e-4e42-9eb1-019079ab87f9",
   "metadata": {},
   "outputs": [
    {
     "name": "stdout",
     "output_type": "stream",
     "text": [
      "0\n"
     ]
    }
   ],
   "source": [
    "def find_min(nums):\n",
    "    left, right = 0, len(nums) - 1\n",
    "\n",
    "    while left < right:\n",
    "        mid = left + (right - left) // 2\n",
    "\n",
    "        # Check if the minimum element is in the left or right half\n",
    "        if nums[mid] > nums[right]:\n",
    "            left = mid + 1\n",
    "        else:\n",
    "            right = mid\n",
    "\n",
    "    # The left index now points to the minimum element\n",
    "    return nums[left]\n",
    "\n",
    "nums = [4, 5, 6, 7, 0, 1, 2]\n",
    "\n",
    "result = find_min(nums)\n",
    "print(result)\n"
   ]
  },
  {
   "cell_type": "markdown",
   "id": "81a58162-3f0f-422b-b857-abe9776b5b70",
   "metadata": {},
   "source": [
    "Problem 16: Search for a target value in a rotated sorted array.\n",
    "Input: nums = [4, 5, 6, 7, 0, 1, 2], target = 0\n",
    "Output: 4"
   ]
  },
  {
   "cell_type": "code",
   "execution_count": 11,
   "id": "32f6762d-c0b4-4e4a-9a3d-99bff6daa1a6",
   "metadata": {},
   "outputs": [
    {
     "name": "stdout",
     "output_type": "stream",
     "text": [
      "4\n"
     ]
    }
   ],
   "source": [
    "def search(nums, target):\n",
    "    left, right = 0, len(nums) - 1\n",
    "\n",
    "    while left <= right:\n",
    "        mid = left + (right - left) // 2\n",
    "\n",
    "        if nums[mid] == target:\n",
    "            return mid  # Found the target\n",
    "\n",
    "        # Check which half is sorted and adjust the search accordingly\n",
    "        if nums[left] <= nums[mid]:  # Left half is sorted\n",
    "            if nums[left] <= target <= nums[mid]:\n",
    "                right = mid - 1\n",
    "            else:\n",
    "                left = mid + 1\n",
    "        else:  # Right half is sorted\n",
    "            if nums[mid] <= target <= nums[right]:\n",
    "                left = mid + 1\n",
    "            else:\n",
    "                right = mid - 1\n",
    "\n",
    "    return -1  # Target not found\n",
    "\n",
    "\n",
    "nums = [4, 5, 6, 7, 0, 1, 2]\n",
    "target = 0\n",
    "\n",
    "result = search(nums, target)\n",
    "print(result)\n"
   ]
  },
  {
   "cell_type": "markdown",
   "id": "911e5770-8fdf-44ba-a250-d649a5c3cef9",
   "metadata": {},
   "source": [
    "Problem 17: Find the peak element in an array. A peak element is greater than its neighbors.\n",
    "Input: nums = [1, 2, 3, 1]\n",
    "Output: 2 (index of peak element)"
   ]
  },
  {
   "cell_type": "code",
   "execution_count": 12,
   "id": "164902ea-613d-43e6-8aa0-a164e926f2d4",
   "metadata": {},
   "outputs": [
    {
     "name": "stdout",
     "output_type": "stream",
     "text": [
      "2\n"
     ]
    }
   ],
   "source": [
    "def find_peak_element(nums):\n",
    "    left, right = 0, len(nums) - 1\n",
    "\n",
    "    while left < right:\n",
    "        mid = left + (right - left) // 2\n",
    "\n",
    "        # Check if mid is a peak element\n",
    "        if nums[mid] > nums[mid + 1]:\n",
    "            right = mid\n",
    "        else:\n",
    "            left = mid + 1\n",
    "\n",
    "    return left  # The left index now points to a peak element\n",
    "\n",
    "\n",
    "nums = [1, 2, 3, 1]\n",
    "\n",
    "result = find_peak_element(nums)\n",
    "print(result)\n"
   ]
  },
  {
   "cell_type": "markdown",
   "id": "acfd4485-6ac6-4b50-b520-ab25ea10a671",
   "metadata": {},
   "source": [
    "Problem 18: Given a m x n matrix where each row and column is sorted in ascending order, count the number\n",
    "of negative numbers.\n",
    "Input: grid = [[4, 3, 2, -1], [3, 2, 1, -1], [1, 1, -1, -2], [-1, -1, -2, -3]]\n",
    "Output: 8"
   ]
  },
  {
   "cell_type": "code",
   "execution_count": 13,
   "id": "ae4a1d04-3652-4703-a7ee-2276150d052f",
   "metadata": {},
   "outputs": [
    {
     "name": "stdout",
     "output_type": "stream",
     "text": [
      "8\n"
     ]
    }
   ],
   "source": [
    "def count_negatives(grid):\n",
    "    rows, cols = len(grid), len(grid[0])\n",
    "    count = 0\n",
    "\n",
    "    # Start from the top-right corner\n",
    "    row, col = 0, cols - 1\n",
    "\n",
    "    while row < rows and col >= 0:\n",
    "        if grid[row][col] < 0:\n",
    "            # All elements below the current position are also negative\n",
    "            count += (rows - row)\n",
    "            col -= 1\n",
    "        else:\n",
    "            # Move down to the next row\n",
    "            row += 1\n",
    "\n",
    "    return count\n",
    "\n",
    "\n",
    "grid = [\n",
    "    [4, 3, 2, -1],\n",
    "    [3, 2, 1, -1],\n",
    "    [1, 1, -1, -2],\n",
    "    [-1, -1, -2, -3]\n",
    "]\n",
    "\n",
    "result = count_negatives(grid)\n",
    "print(result)\n"
   ]
  },
  {
   "cell_type": "code",
   "execution_count": null,
   "id": "ab574e79-e439-4e36-8db5-7ba6aa3104e0",
   "metadata": {},
   "outputs": [],
   "source": [
    "Problem 19: Given a 2D matrix sorted in ascending order in each row, and the first integer of each row is\n",
    "greater than the last integer of the previous row, determine if a target value is present in the matrix.\n",
    "Input: matrix = [[1, 3, 5, 7], [10, 11, 16, 20], [23, 30, 34, 60]], target = 3\n",
    "Output: True"
   ]
  },
  {
   "cell_type": "code",
   "execution_count": 14,
   "id": "024a1ad0-2769-476a-b64f-a0c019756844",
   "metadata": {},
   "outputs": [
    {
     "name": "stdout",
     "output_type": "stream",
     "text": [
      "True\n"
     ]
    }
   ],
   "source": [
    "def search_matrix(matrix, target):\n",
    "    if not matrix or not matrix[0]:\n",
    "        return False\n",
    "\n",
    "    rows, cols = len(matrix), len(matrix[0])\n",
    "    row, col = 0, cols - 1  # Start from the top-right corner\n",
    "\n",
    "    while row < rows and col >= 0:\n",
    "        if matrix[row][col] == target:\n",
    "            return True\n",
    "        elif matrix[row][col] < target:\n",
    "            row += 1  # Move down\n",
    "        else:\n",
    "            col -= 1  # Move left\n",
    "\n",
    "    return False\n",
    "\n",
    "matrix = [\n",
    "    [1, 3, 5, 7],\n",
    "    [10, 11, 16, 20],\n",
    "    [23, 30, 34, 60]\n",
    "]\n",
    "target = 3\n",
    "\n",
    "result = search_matrix(matrix, target)\n",
    "print(result)\n"
   ]
  },
  {
   "cell_type": "markdown",
   "id": "a819894c-bd12-45cb-9bc6-781d9d7306fe",
   "metadata": {},
   "source": [
    "Problem 20: Find Median in Two Sorted Arrays\n",
    "Problem: Given two sorted arrays, find the median of the combined sorted array.\\\n",
    "Input: nums1 = [1, 3], nums2 = [2]\n",
    "Output: 2.0"
   ]
  },
  {
   "cell_type": "code",
   "execution_count": 15,
   "id": "5de8edcb-9ad0-4423-99ec-3c7da5429773",
   "metadata": {},
   "outputs": [
    {
     "name": "stdout",
     "output_type": "stream",
     "text": [
      "2\n"
     ]
    }
   ],
   "source": [
    "def findMedianSortedArrays(nums1, nums2):\n",
    "    if len(nums1) > len(nums2):\n",
    "        nums1, nums2 = nums2, nums1\n",
    "\n",
    "    x, y = len(nums1), len(nums2)\n",
    "    low, high = 0, x\n",
    "\n",
    "    while low <= high:\n",
    "        partitionX = (low + high) // 2\n",
    "        partitionY = (x + y + 1) // 2 - partitionX\n",
    "\n",
    "        maxX = float('-inf') if partitionX == 0 else nums1[partitionX - 1]\n",
    "        minX = float('inf') if partitionX == x else nums1[partitionX]\n",
    "\n",
    "        maxY = float('-inf') if partitionY == 0 else nums2[partitionY - 1]\n",
    "        minY = float('inf') if partitionY == y else nums2[partitionY]\n",
    "\n",
    "        if maxX <= minY and maxY <= minX:\n",
    "            if (x + y) % 2 == 0:\n",
    "                return (max(maxX, maxY) + min(minX, minY)) / 2\n",
    "            else:\n",
    "                return max(maxX, maxY)\n",
    "        elif maxX > minY:\n",
    "            high = partitionX - 1\n",
    "        else:\n",
    "            low = partitionX + 1\n",
    "\n",
    "\n",
    "\n",
    "nums1 = [1, 3]\n",
    "nums2 = [2]\n",
    "\n",
    "result = findMedianSortedArrays(nums1, nums2)\n",
    "print(result)\n"
   ]
  },
  {
   "cell_type": "markdown",
   "id": "d798b14d-66a0-4998-918a-a65903ec4ea3",
   "metadata": {},
   "source": [
    "Problem 21: Given a sorted character array and a target letter, find the smallest letter in the array that is\n",
    "greater than the target.\n",
    "Input: letters = ['c', 'f', 'j'], target = a\n",
    "Output: 'c'"
   ]
  },
  {
   "cell_type": "code",
   "execution_count": 16,
   "id": "7c5c366f-4e7b-4930-8a51-819737dd97d5",
   "metadata": {},
   "outputs": [
    {
     "name": "stdout",
     "output_type": "stream",
     "text": [
      "c\n"
     ]
    }
   ],
   "source": [
    "def nextGreatestLetter(letters, target):\n",
    "    left, right = 0, len(letters)\n",
    "\n",
    "    while left < right:\n",
    "        mid = left + (right - left) // 2\n",
    "\n",
    "        if letters[mid] <= target:\n",
    "            left = mid + 1\n",
    "        else:\n",
    "            right = mid\n",
    "\n",
    "    # If left is equal to the length of the array, wrap around to the beginning\n",
    "    return letters[left % len(letters)]\n",
    "\n",
    "\n",
    "\n",
    "letters = ['c', 'f', 'j']\n",
    "target = 'a'\n",
    "\n",
    "result = nextGreatestLetter(letters, target)\n",
    "print(result)\n"
   ]
  },
  {
   "cell_type": "markdown",
   "id": "42e73ec6-1e16-4f49-b77a-94b9351dbe20",
   "metadata": {},
   "source": [
    "Problem 22: Given an array with n objects colored red, white, or blue, sort them in-place so that objects of\n",
    "the same color are adjacent, with the colors in the order red, white, and blue.\n",
    "Input: nums = [2, 0, 2, 1, 1, 0]\n",
    "Output: [0, 0, 1, 1, 2, 2]"
   ]
  },
  {
   "cell_type": "code",
   "execution_count": 17,
   "id": "bdf2ecfe-a0a7-4cbd-8a25-a4632e040c5e",
   "metadata": {},
   "outputs": [
    {
     "name": "stdout",
     "output_type": "stream",
     "text": [
      "[0, 0, 1, 1, 2, 2]\n"
     ]
    }
   ],
   "source": [
    "def sortColors(nums):\n",
    "    low, high = 0, len(nums) - 1\n",
    "    i = 0\n",
    "\n",
    "    while i <= high:\n",
    "        if nums[i] == 0:\n",
    "            nums[i], nums[low] = nums[low], nums[i]\n",
    "            low += 1\n",
    "            i += 1\n",
    "        elif nums[i] == 2:\n",
    "            nums[i], nums[high] = nums[high], nums[i]\n",
    "            high -= 1\n",
    "        else:\n",
    "            i += 1\n",
    "\n",
    "nums = [2, 0, 2, 1, 1, 0]\n",
    "\n",
    "sortColors(nums)\n",
    "print(nums)\n"
   ]
  },
  {
   "cell_type": "markdown",
   "id": "87722072-6695-4c83-98de-52100f067db0",
   "metadata": {},
   "source": [
    "Problem 23: Find the kth largest element in an unsorted array.\n",
    "Input: nums = [3, 2, 1, 5, 6, 4], k = 2\n",
    "Output: 5"
   ]
  },
  {
   "cell_type": "code",
   "execution_count": 18,
   "id": "52ed4ac3-9d81-49d3-a95d-fd71dd4c3963",
   "metadata": {},
   "outputs": [
    {
     "name": "stdout",
     "output_type": "stream",
     "text": [
      "5\n"
     ]
    }
   ],
   "source": [
    "import heapq\n",
    "\n",
    "def findKthLargest(nums, k):\n",
    "    min_heap = []\n",
    "\n",
    "    for num in nums:\n",
    "        heapq.heappush(min_heap, num)\n",
    "        if len(min_heap) > k:\n",
    "            heapq.heappop(min_heap)\n",
    "\n",
    "    return min_heap[0]\n",
    "\n",
    "nums = [3, 2, 1, 5, 6, 4]\n",
    "k = 2\n",
    "\n",
    "result = findKthLargest(nums, k)\n",
    "print(result)\n"
   ]
  },
  {
   "cell_type": "markdown",
   "id": "790a81ec-e2f3-432d-ba08-244c41e8c5d8",
   "metadata": {},
   "source": [
    "Problem 24: Given an unsorted array, reorder it in-place such that nums[0] <= nums[1] >= nums[2] <=\n",
    "nums[3]...\n",
    "Input: nums = [3, 5, 2, 1, 6, 4]\n",
    "Output: [3, 5, 1, 6, 2, 4]"
   ]
  },
  {
   "cell_type": "code",
   "execution_count": 21,
   "id": "1da68de2-f67d-4af7-a307-6c4591003d7c",
   "metadata": {},
   "outputs": [
    {
     "name": "stdout",
     "output_type": "stream",
     "text": [
      "[3, 5, 2, 6, 1, 4]\n"
     ]
    }
   ],
   "source": [
    "def wiggleSort(nums):\n",
    "    n = len(nums)\n",
    "    \n",
    "    for i in range(1, n, 2):\n",
    "        if i + 1 < n and nums[i] < nums[i + 1]:\n",
    "            nums[i], nums[i + 1] = nums[i + 1], nums[i]\n",
    "            \n",
    "        if i - 1 >= 0 and nums[i - 1] > nums[i]:\n",
    "            nums[i], nums[i - 1] = nums[i - 1], nums[i]\n",
    "\n",
    "\n",
    "nums = [3, 5, 2, 1, 6, 4]\n",
    "\n",
    "wiggleSort(nums)\n",
    "print(nums)\n",
    "\n"
   ]
  },
  {
   "cell_type": "markdown",
   "id": "081d6c28-b272-4b56-ba1c-eedbb0aa06c8",
   "metadata": {},
   "source": [
    "Problem 25: Given an array of integers, calculate the sum of all its elements.\n",
    "Input: [1, 2, 3, 4, 5]\n",
    "Output: 15"
   ]
  },
  {
   "cell_type": "code",
   "execution_count": 22,
   "id": "0be6d06b-dd7a-4aff-9810-7d3e34e2bc81",
   "metadata": {},
   "outputs": [
    {
     "name": "stdout",
     "output_type": "stream",
     "text": [
      "15\n"
     ]
    }
   ],
   "source": [
    "def calculate_sum(nums):\n",
    "    return sum(nums)\n",
    "\n",
    "nums = [1, 2, 3, 4, 5]\n",
    "\n",
    "result = calculate_sum(nums)\n",
    "print(result)\n"
   ]
  },
  {
   "cell_type": "markdown",
   "id": "add44366-df06-4140-bff3-2fa94e95a82a",
   "metadata": {},
   "source": [
    "Problem 26: Find the maximum element in an array of integers.\n",
    "Input: [3, 7, 2, 9, 4, 1]\n",
    "Output: 9"
   ]
  },
  {
   "cell_type": "code",
   "execution_count": 23,
   "id": "7cd1a691-4385-46c0-8944-ac0b5ddc3357",
   "metadata": {},
   "outputs": [
    {
     "name": "stdout",
     "output_type": "stream",
     "text": [
      "9\n"
     ]
    }
   ],
   "source": [
    "def find_max(nums):\n",
    "    return max(nums)\n",
    "\n",
    "nums = [3, 7, 2, 9, 4, 1]\n",
    "\n",
    "result = find_max(nums)\n",
    "print(result)\n"
   ]
  },
  {
   "cell_type": "markdown",
   "id": "75b8bbcb-23a1-410c-afbd-830658c01aa2",
   "metadata": {},
   "source": [
    "Problem 27: Implement linear search to find the index of a target element in an array.\n",
    "Input: [5, 3, 8, 2, 7, 4], target = 8\n",
    "Output: 2"
   ]
  },
  {
   "cell_type": "code",
   "execution_count": 24,
   "id": "ebcda583-ddf4-42a8-aeed-69ac6f4fcd82",
   "metadata": {},
   "outputs": [
    {
     "name": "stdout",
     "output_type": "stream",
     "text": [
      "2\n"
     ]
    }
   ],
   "source": [
    "def find_index(num,target):\n",
    "    for i in range(len(num)):\n",
    "            if num[i]==target:\n",
    "                return i\n",
    "    return -1       \n",
    "num=[5,3,8,2,7,4]\n",
    "target=8\n",
    "result=find_index(num,target)\n",
    "print(result)"
   ]
  },
  {
   "cell_type": "markdown",
   "id": "c173f00f-cb19-4380-ad6c-8963702c56d6",
   "metadata": {},
   "source": [
    "Problem 28 Calculate the factorial of a given number.\n",
    "Input: 5\n",
    "Output: 120 (as 5! = 5 * 4 * 3 * 2 * 1 = 120)"
   ]
  },
  {
   "cell_type": "code",
   "execution_count": 25,
   "id": "6974cf68-ab99-4768-8f64-65284cf85266",
   "metadata": {},
   "outputs": [
    {
     "name": "stdout",
     "output_type": "stream",
     "text": [
      "120\n"
     ]
    }
   ],
   "source": [
    "def factorial_recursive(n):\n",
    "    if n == 0 or n == 1:\n",
    "        return 1\n",
    "    else:\n",
    "        return n * factorial_recursive(n - 1)\n",
    "num = 5\n",
    "\n",
    "result = factorial_recursive(num)\n",
    "print(result)\n"
   ]
  },
  {
   "cell_type": "code",
   "execution_count": null,
   "id": "3477fecd-17e3-42f3-96ee-10c9d8ed5010",
   "metadata": {},
   "outputs": [],
   "source": [
    "Problem 29: Check if a given number is a prime number.\n",
    "Input: 7\n",
    "Output: True"
   ]
  },
  {
   "cell_type": "code",
   "execution_count": 26,
   "id": "f2f62f23-9ba7-4c1a-81ee-e5f236b27cec",
   "metadata": {},
   "outputs": [
    {
     "name": "stdout",
     "output_type": "stream",
     "text": [
      "True\n"
     ]
    }
   ],
   "source": [
    "def is_prime(number):\n",
    "    if number <= 1:\n",
    "        return False\n",
    "    for i in range(2, int(number**0.5) + 1):\n",
    "        if number % i == 0:\n",
    "            return False\n",
    "    return True\n",
    "num = 7\n",
    "\n",
    "result = is_prime(num)\n",
    "print(result)\n"
   ]
  },
  {
   "cell_type": "markdown",
   "id": "04627af9-ca73-48ca-87c0-2974fcd1857c",
   "metadata": {},
   "source": [
    "Problem 30: Generate the Fibonacci series up to a given number n.\n",
    "Input: 8\n",
    "Output: [0, 1, 1, 2, 3, 5, 8, 13]"
   ]
  },
  {
   "cell_type": "code",
   "execution_count": 27,
   "id": "3a0923be-0d7f-4445-872a-0017c11994bc",
   "metadata": {},
   "outputs": [
    {
     "name": "stdout",
     "output_type": "stream",
     "text": [
      "[0, 1, 1, 2, 3, 5, 8]\n"
     ]
    }
   ],
   "source": [
    "def generate_fibonacci_recursive(n, series=[0, 1]):\n",
    "    if series[-1] + series[-2] <= n:\n",
    "        series.append(series[-1] + series[-2])\n",
    "        generate_fibonacci_recursive(n, series)\n",
    "    return series\n",
    "\n",
    "num = 8\n",
    "\n",
    "result = generate_fibonacci_recursive(num)\n",
    "print(result)\n"
   ]
  },
  {
   "cell_type": "markdown",
   "id": "66945d22-ea71-48aa-b70e-66f6bedbe8d3",
   "metadata": {},
   "source": [
    "Problem 31: Calculate the power of a number using recursion.\n",
    "Input: base = 3, exponent = 4\n",
    "Output: 81 (as 3^4 = 3 * 3 * 3 * 3 = 81)"
   ]
  },
  {
   "cell_type": "code",
   "execution_count": 28,
   "id": "cda05020-b84d-44ac-9b95-04ce84c1c81c",
   "metadata": {},
   "outputs": [
    {
     "name": "stdout",
     "output_type": "stream",
     "text": [
      "81\n"
     ]
    }
   ],
   "source": [
    "def power_recursive(base, exponent):\n",
    "    if exponent == 0:\n",
    "        return 1\n",
    "    else:\n",
    "        return base * power_recursive(base, exponent - 1)\n",
    "\n",
    "base = 3\n",
    "exponent = 4\n",
    "\n",
    "result = power_recursive(base, exponent)\n",
    "print(result)\n"
   ]
  },
  {
   "cell_type": "markdown",
   "id": "08c2880d-e1fb-40c2-9f71-1385b2e44e35",
   "metadata": {},
   "source": [
    "Problem 32: Reverse a given string.\n",
    "Input: \"hello\"\n",
    "Output: \"olleh\""
   ]
  },
  {
   "cell_type": "code",
   "execution_count": 29,
   "id": "a46b148b-0701-4bb5-9df7-91e351023827",
   "metadata": {},
   "outputs": [
    {
     "name": "stdout",
     "output_type": "stream",
     "text": [
      "olleh\n"
     ]
    }
   ],
   "source": [
    "def reverse_string(input_str):\n",
    "    return input_str[::-1]\n",
    "\n",
    "\n",
    "input_str = \"hello\"\n",
    "\n",
    "result = reverse_string(input_str)\n",
    "print(result)\n"
   ]
  },
  {
   "cell_type": "code",
   "execution_count": null,
   "id": "a86905ab-af1e-4cbe-853a-1ed20da3400d",
   "metadata": {},
   "outputs": [],
   "source": []
  }
 ],
 "metadata": {
  "kernelspec": {
   "display_name": "Python 3 (ipykernel)",
   "language": "python",
   "name": "python3"
  },
  "language_info": {
   "codemirror_mode": {
    "name": "ipython",
    "version": 3
   },
   "file_extension": ".py",
   "mimetype": "text/x-python",
   "name": "python",
   "nbconvert_exporter": "python",
   "pygments_lexer": "ipython3",
   "version": "3.10.8"
  }
 },
 "nbformat": 4,
 "nbformat_minor": 5
}
